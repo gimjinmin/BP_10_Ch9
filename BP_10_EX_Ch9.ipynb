{
  "nbformat": 4,
  "nbformat_minor": 0,
  "metadata": {
    "colab": {
      "provenance": [],
      "authorship_tag": "ABX9TyPt+J4Eek5+4wbxSsWaial+",
      "include_colab_link": true
    },
    "kernelspec": {
      "name": "python3",
      "display_name": "Python 3"
    },
    "language_info": {
      "name": "python"
    }
  },
  "cells": [
    {
      "cell_type": "markdown",
      "metadata": {
        "id": "view-in-github",
        "colab_type": "text"
      },
      "source": [
        "<a href=\"https://colab.research.google.com/github/gimjinmin/BP_10_Ch9/blob/main/BP_10_EX_Ch9.ipynb\" target=\"_parent\"><img src=\"https://colab.research.google.com/assets/colab-badge.svg\" alt=\"Open In Colab\"/></a>"
      ]
    },
    {
      "cell_type": "code",
      "execution_count": 1,
      "metadata": {
        "colab": {
          "base_uri": "https://localhost:8080/"
        },
        "id": "k-w7gyF5-mGn",
        "outputId": "96445ba3-36c4-48c2-b263-d0586f6525c7"
      },
      "outputs": [
        {
          "output_type": "stream",
          "name": "stdout",
          "text": [
            "정수를 입력하시오: 10\n",
            "정수를 입력하시오: 20\n",
            "정수를 입력하시오: 30\n",
            "정수를 입력하시오: 40\n",
            "정수를 입력하시오: 50\n",
            "평균= 30.0\n"
          ]
        }
      ],
      "source": [
        "alist = []\n",
        "sum = 0\n",
        "for i in range(5):\n",
        " i = int(input(\"정수를 입력하시오: \"))                       #정수를 입력해 평균을 구함\n",
        " alist.append(i)\n",
        "for i in alist:\n",
        " sum += i\n",
        "avg = sum/len(alist)\n",
        "print(\"평균=\", avg)"
      ]
    },
    {
      "cell_type": "code",
      "source": [
        "import random\n",
        "counters = [0, 0, 0, 0, 0, 0]\n",
        "for i in range(1000):\n",
        " value = random.randint(0, 5)\n",
        " counters[value] = counters[value] + 1\n",
        "\n",
        "for i in range(6) :\n",
        " print(\"주사위가 \", i+1, \"인 경우는 \", counters[i], \"번\")              #주사위 숫자에 따라 몇번이 달라짐"
      ],
      "metadata": {
        "colab": {
          "base_uri": "https://localhost:8080/"
        },
        "id": "S6iP7Flu_HVG",
        "outputId": "41f8db95-1957-477c-b937-11aca1888e30"
      },
      "execution_count": 2,
      "outputs": [
        {
          "output_type": "stream",
          "name": "stdout",
          "text": [
            "주사위가  1 인 경우는  159 번\n",
            "주사위가  2 인 경우는  153 번\n",
            "주사위가  3 인 경우는  163 번\n",
            "주사위가  4 인 경우는  172 번\n",
            "주사위가  5 인 경우는  193 번\n",
            "주사위가  6 인 경우는  160 번\n"
          ]
        }
      ]
    },
    {
      "cell_type": "code",
      "source": [
        "contacts = { }\n",
        "while True:\n",
        " name = input(\"(입력모드)이름을 입력하시오: \")                    #이름을 입력\n",
        " if not name:\n",
        "    break;\n",
        " tel = input(\"전화번호를 입력하시오: \")                           #전화번호를 입력\n",
        " contacts[name] = tel\n",
        "while True:\n",
        " name = input(\"(검색모드)이름을 입력하시오: \")\n",
        " if not name:\n",
        "    break;\n",
        " if name in contacts :\n",
        "   print(name, \"의 전화번호는\", contacts[name], \"입니다.\")"
      ],
      "metadata": {
        "colab": {
          "base_uri": "https://localhost:8080/"
        },
        "id": "5GzkWCIK_WMN",
        "outputId": "9fc1425a-17e9-431d-fc47-ac632f2cca1d"
      },
      "execution_count": 7,
      "outputs": [
        {
          "name": "stdout",
          "output_type": "stream",
          "text": [
            "(입력모드)이름을 입력하시오: 김진민\n",
            "전화번호를 입력하시오: 01064994486\n",
            "(입력모드)이름을 입력하시오: \n",
            "(검색모드)이름을 입력하시오: \n"
          ]
        }
      ]
    },
    {
      "cell_type": "code",
      "source": [
        "domain={\"kr\":\"대한민국\",\"sk\":\"슬로바키아\",\"no\":\"노르웨이\",\"us\":\"미국\",\"jp\":\"일본\",\"de\":\"독일\"}\n",
        "for k,v in domain.items():   # 다음으로 지칭\n",
        "    print(k,\":\",v)"
      ],
      "metadata": {
        "colab": {
          "base_uri": "https://localhost:8080/"
        },
        "id": "SNkimbp0IsCx",
        "outputId": "27acd30a-653c-48df-ddad-630bbdb3b302"
      },
      "execution_count": 8,
      "outputs": [
        {
          "output_type": "stream",
          "name": "stdout",
          "text": [
            "kr : 대한민국\n",
            "sk : 슬로바키아\n",
            "no : 노르웨이\n",
            "us : 미국\n",
            "jp : 일본\n",
            "de : 독일\n"
          ]
        }
      ]
    },
    {
      "cell_type": "code",
      "source": [
        "problems={\"파이썬\":\"최근에 가장떠오르는 프로그래밍 언어\",\"변수\":\"데이터를 저장하는 메모리 공간\",\"함수\":\"작업을 수행하는 문장들의 집합에 이름을 붙인 것\",\"리스트\":\"서로 관련이 없는 항목들의 모임\"}\n",
        "for k,v in problems.items():\n",
        "    print(v)\n",
        "    print(\"다음은 어떤 단어에 대한 설명일까요?\")\n",
        "    print(\"(1)파이썬 (2)함수 (3)리스트 (4)변수\")      #파이썬,함수,리스트,변수 를 정답으로 질문에 대답해야함\n",
        "    ans=input()\n",
        "    if ans==k:\n",
        "        print(\"정답입니다!\")\n",
        "    else:\n",
        "        print(\"틀렸습니다\")"
      ],
      "metadata": {
        "colab": {
          "base_uri": "https://localhost:8080/"
        },
        "id": "GeUm-Z6vNe_9",
        "outputId": "7b15c407-e483-48f3-8ee0-cb667d3c5c8b"
      },
      "execution_count": 21,
      "outputs": [
        {
          "output_type": "stream",
          "name": "stdout",
          "text": [
            "최근에 가장떠오르는 프로그래밍 언어\n",
            "다음은 어떤 단어에 대한 설명일까요?\n",
            "(1)파이썬 (2)함수 (3)리스트 (4)변수\n",
            "함수\n",
            "틀렸습니다\n",
            "데이터를 저장하는 메모리 공간\n",
            "다음은 어떤 단어에 대한 설명일까요?\n",
            "(1)파이썬 (2)함수 (3)리스트 (4)변수\n",
            "리스트\n",
            "틀렸습니다\n",
            "작업을 수행하는 문장들의 집합에 이름을 붙인 것\n",
            "다음은 어떤 단어에 대한 설명일까요?\n",
            "(1)파이썬 (2)함수 (3)리스트 (4)변수\n",
            "파이썬\n",
            "틀렸습니다\n",
            "서로 관련이 없는 항목들의 모임\n",
            "다음은 어떤 단어에 대한 설명일까요?\n",
            "(1)파이썬 (2)함수 (3)리스트 (4)변수\n",
            "변수\n",
            "틀렸습니다\n"
          ]
        }
      ]
    }
  ]
}